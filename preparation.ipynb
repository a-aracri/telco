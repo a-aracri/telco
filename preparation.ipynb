{
 "cells": [
  {
   "cell_type": "code",
   "execution_count": 1,
   "metadata": {},
   "outputs": [
    {
     "name": "stdout",
     "output_type": "stream",
     "text": [
      "Requirement already satisfied: numpy==1.18.1 in c:\\users\\aarac\\anaconda3\\lib\\site-packages (from -r requirements.txt (line 1)) (1.18.1)\n",
      "Requirement already satisfied: pandas==1.0.1 in c:\\users\\aarac\\anaconda3\\lib\\site-packages (from -r requirements.txt (line 2)) (1.0.1)\n",
      "Requirement already satisfied: scikit-image==0.16.2 in c:\\users\\aarac\\anaconda3\\lib\\site-packages (from -r requirements.txt (line 3)) (0.16.2)\n",
      "Requirement already satisfied: scikit-learn==0.22.2.post1 in c:\\users\\aarac\\anaconda3\\lib\\site-packages (from -r requirements.txt (line 4)) (0.22.2.post1)\n",
      "Requirement already satisfied: graphviz==0.16 in c:\\users\\aarac\\anaconda3\\lib\\site-packages (from -r requirements.txt (line 5)) (0.16)\n",
      "Requirement already satisfied: python-dateutil>=2.6.1 in c:\\users\\aarac\\anaconda3\\lib\\site-packages (from pandas==1.0.1->-r requirements.txt (line 2)) (2.8.1)\n",
      "Requirement already satisfied: pytz>=2017.2 in c:\\users\\aarac\\anaconda3\\lib\\site-packages (from pandas==1.0.1->-r requirements.txt (line 2)) (2019.3)\n",
      "Requirement already satisfied: pillow>=4.3.0 in c:\\users\\aarac\\anaconda3\\lib\\site-packages (from scikit-image==0.16.2->-r requirements.txt (line 3)) (7.1.2)\n",
      "Requirement already satisfied: networkx>=2.0 in c:\\users\\aarac\\anaconda3\\lib\\site-packages (from scikit-image==0.16.2->-r requirements.txt (line 3)) (2.5)\n",
      "Requirement already satisfied: matplotlib!=3.0.0,>=2.0.0 in c:\\users\\aarac\\anaconda3\\lib\\site-packages (from scikit-image==0.16.2->-r requirements.txt (line 3)) (3.3.2)\n",
      "Requirement already satisfied: scipy>=0.19.0 in c:\\users\\aarac\\anaconda3\\lib\\site-packages (from scikit-image==0.16.2->-r requirements.txt (line 3)) (1.5.2)\n",
      "Requirement already satisfied: PyWavelets>=0.4.0 in c:\\users\\aarac\\anaconda3\\lib\\site-packages (from scikit-image==0.16.2->-r requirements.txt (line 3)) (1.1.1)\n",
      "Requirement already satisfied: imageio>=2.3.0 in c:\\users\\aarac\\anaconda3\\lib\\site-packages (from scikit-image==0.16.2->-r requirements.txt (line 3)) (2.9.0)\n",
      "Requirement already satisfied: joblib>=0.11 in c:\\users\\aarac\\anaconda3\\lib\\site-packages (from scikit-learn==0.22.2.post1->-r requirements.txt (line 4)) (0.17.0)\n",
      "Requirement already satisfied: six>=1.5 in c:\\users\\aarac\\anaconda3\\lib\\site-packages (from python-dateutil>=2.6.1->pandas==1.0.1->-r requirements.txt (line 2)) (1.14.0)\n",
      "Requirement already satisfied: decorator>=4.3.0 in c:\\users\\aarac\\anaconda3\\lib\\site-packages (from networkx>=2.0->scikit-image==0.16.2->-r requirements.txt (line 3)) (4.4.2)\n",
      "Requirement already satisfied: kiwisolver>=1.0.1 in c:\\users\\aarac\\anaconda3\\lib\\site-packages (from matplotlib!=3.0.0,>=2.0.0->scikit-image==0.16.2->-r requirements.txt (line 3)) (1.3.0)\n",
      "Requirement already satisfied: cycler>=0.10 in c:\\users\\aarac\\anaconda3\\lib\\site-packages (from matplotlib!=3.0.0,>=2.0.0->scikit-image==0.16.2->-r requirements.txt (line 3)) (0.10.0)\n",
      "Requirement already satisfied: pyparsing!=2.0.4,!=2.1.2,!=2.1.6,>=2.0.3 in c:\\users\\aarac\\anaconda3\\lib\\site-packages (from matplotlib!=3.0.0,>=2.0.0->scikit-image==0.16.2->-r requirements.txt (line 3)) (2.4.7)\n",
      "Requirement already satisfied: certifi>=2020.06.20 in c:\\users\\aarac\\anaconda3\\lib\\site-packages (from matplotlib!=3.0.0,>=2.0.0->scikit-image==0.16.2->-r requirements.txt (line 3)) (2021.5.30)\n"
     ]
    }
   ],
   "source": [
    "!pip install -r requirements.txt"
   ]
  },
  {
   "cell_type": "code",
   "execution_count": 3,
   "metadata": {},
   "outputs": [],
   "source": [
    "import pandas as pd\n",
    "dataframe = pd.read_csv(\"./Telco-Customer-Churn.partial.csv\")"
   ]
  },
  {
   "cell_type": "code",
   "execution_count": 4,
   "metadata": {},
   "outputs": [],
   "source": [
    "from sklearn.model_selection import train_test_split\n",
    "y = dataframe['Churn'].copy()\n",
    "X = dataframe.drop(\"Churn\",axis=1).copy()\n",
    "\n",
    "X_train, X_test, y_train, y_test = train_test_split(X, y, test_size=0.2, random_state=0)"
   ]
  },
  {
   "cell_type": "code",
   "execution_count": 5,
   "metadata": {},
   "outputs": [],
   "source": [
    "train = X_train.join(y_train)"
   ]
  },
  {
   "cell_type": "code",
   "execution_count": 6,
   "metadata": {},
   "outputs": [],
   "source": [
    "test = X_test.join(y_test)"
   ]
  },
  {
   "cell_type": "code",
   "execution_count": 7,
   "metadata": {},
   "outputs": [
    {
     "name": "stdout",
     "output_type": "stream",
     "text": [
      "Salvataggio train.csv\n"
     ]
    }
   ],
   "source": [
    "train.to_csv(\"train.csv\",index=False)\n",
    "print(\"Salvataggio train.csv\")"
   ]
  },
  {
   "cell_type": "code",
   "execution_count": 8,
   "metadata": {},
   "outputs": [
    {
     "name": "stdout",
     "output_type": "stream",
     "text": [
      "Salvataggio test.csv\n"
     ]
    }
   ],
   "source": [
    "test.to_csv(\"test.csv\",index=False)\n",
    "print(\"Salvataggio test.csv\")"
   ]
  },
  {
   "cell_type": "code",
   "execution_count": null,
   "metadata": {},
   "outputs": [],
   "source": []
  }
 ],
 "metadata": {
  "kernelspec": {
   "display_name": "Python 3",
   "language": "python",
   "name": "python3"
  },
  "language_info": {
   "codemirror_mode": {
    "name": "ipython",
    "version": 3
   },
   "file_extension": ".py",
   "mimetype": "text/x-python",
   "name": "python",
   "nbconvert_exporter": "python",
   "pygments_lexer": "ipython3",
   "version": "3.8.5"
  }
 },
 "nbformat": 4,
 "nbformat_minor": 4
}
